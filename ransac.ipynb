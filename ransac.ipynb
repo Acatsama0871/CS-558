{
 "cells": [
  {
   "cell_type": "code",
   "execution_count": 30,
   "metadata": {},
   "outputs": [],
   "source": [
    "import cv2\n",
    "import numpy as np\n",
    "import itertools\n",
    "from sklearn import linear_model\n",
    "import matplotlib.pyplot as plt\n",
    "from rich import print\n",
    "from numba import jit"
   ]
  },
  {
   "cell_type": "markdown",
   "metadata": {},
   "source": [
    "# Load Image"
   ]
  },
  {
   "cell_type": "code",
   "execution_count": 12,
   "metadata": {},
   "outputs": [
    {
     "data": {
      "text/html": [
       "<pre style=\"white-space:pre;overflow-x:auto;line-height:normal;font-family:Menlo,'DejaVu Sans Mono',consolas,'Courier New',monospace\"><span style=\"font-weight: bold\">(</span><span style=\"color: #008080; text-decoration-color: #008080; font-weight: bold\">407</span>, <span style=\"color: #008080; text-decoration-color: #008080; font-weight: bold\">548</span><span style=\"font-weight: bold\">)</span>\n",
       "</pre>\n"
      ],
      "text/plain": [
       "\u001b[1m(\u001b[0m\u001b[1;36m407\u001b[0m, \u001b[1;36m548\u001b[0m\u001b[1m)\u001b[0m\n"
      ]
     },
     "metadata": {},
     "output_type": "display_data"
    },
    {
     "data": {
      "text/html": [
       "<pre style=\"white-space:pre;overflow-x:auto;line-height:normal;font-family:Menlo,'DejaVu Sans Mono',consolas,'Courier New',monospace\">float32\n",
       "</pre>\n"
      ],
      "text/plain": [
       "float32\n"
      ]
     },
     "metadata": {},
     "output_type": "display_data"
    },
    {
     "data": {
      "text/html": [
       "<pre style=\"white-space:pre;overflow-x:auto;line-height:normal;font-family:Menlo,'DejaVu Sans Mono',consolas,'Courier New',monospace\"><span style=\"font-weight: bold\">[</span>  <span style=\"color: #008080; text-decoration-color: #008080; font-weight: bold\">0</span>. <span style=\"color: #008080; text-decoration-color: #008080; font-weight: bold\">255</span>.<span style=\"font-weight: bold\">]</span>\n",
       "</pre>\n"
      ],
      "text/plain": [
       "\u001b[1m[\u001b[0m  \u001b[1;36m0\u001b[0m. \u001b[1;36m255\u001b[0m.\u001b[1m]\u001b[0m\n"
      ]
     },
     "metadata": {},
     "output_type": "display_data"
    }
   ],
   "source": [
    "image = cv2.imread('/home/haohang/CS-558/hw2/result/keypoint.png', 0)\n",
    "\n",
    "print(image.shape)\n",
    "print(image.dtype)\n",
    "print(np.unique(image))"
   ]
  },
  {
   "cell_type": "code",
   "execution_count": 20,
   "metadata": {},
   "outputs": [
    {
     "data": {
      "text/html": [
       "<pre style=\"white-space:pre;overflow-x:auto;line-height:normal;font-family:Menlo,'DejaVu Sans Mono',consolas,'Courier New',monospace\"><span style=\"font-weight: bold\">[[</span>  <span style=\"color: #008080; text-decoration-color: #008080; font-weight: bold\">1</span>. <span style=\"color: #008080; text-decoration-color: #008080; font-weight: bold\">256</span>.<span style=\"font-weight: bold\">]</span>\n",
       " <span style=\"font-weight: bold\">[</span>  <span style=\"color: #008080; text-decoration-color: #008080; font-weight: bold\">1</span>. <span style=\"color: #008080; text-decoration-color: #008080; font-weight: bold\">258</span>.<span style=\"font-weight: bold\">]</span>\n",
       " <span style=\"font-weight: bold\">[</span>  <span style=\"color: #008080; text-decoration-color: #008080; font-weight: bold\">1</span>. <span style=\"color: #008080; text-decoration-color: #008080; font-weight: bold\">260</span>.<span style=\"font-weight: bold\">]</span>\n",
       " <span style=\"font-weight: bold\">[</span>  <span style=\"color: #008080; text-decoration-color: #008080; font-weight: bold\">1</span>. <span style=\"color: #008080; text-decoration-color: #008080; font-weight: bold\">262</span>.<span style=\"font-weight: bold\">]</span>\n",
       " <span style=\"font-weight: bold\">[</span>  <span style=\"color: #008080; text-decoration-color: #008080; font-weight: bold\">1</span>. <span style=\"color: #008080; text-decoration-color: #008080; font-weight: bold\">264</span>.<span style=\"font-weight: bold\">]]</span>\n",
       "</pre>\n"
      ],
      "text/plain": [
       "\u001b[1m[\u001b[0m\u001b[1m[\u001b[0m  \u001b[1;36m1\u001b[0m. \u001b[1;36m256\u001b[0m.\u001b[1m]\u001b[0m\n",
       " \u001b[1m[\u001b[0m  \u001b[1;36m1\u001b[0m. \u001b[1;36m258\u001b[0m.\u001b[1m]\u001b[0m\n",
       " \u001b[1m[\u001b[0m  \u001b[1;36m1\u001b[0m. \u001b[1;36m260\u001b[0m.\u001b[1m]\u001b[0m\n",
       " \u001b[1m[\u001b[0m  \u001b[1;36m1\u001b[0m. \u001b[1;36m262\u001b[0m.\u001b[1m]\u001b[0m\n",
       " \u001b[1m[\u001b[0m  \u001b[1;36m1\u001b[0m. \u001b[1;36m264\u001b[0m.\u001b[1m]\u001b[0m\u001b[1m]\u001b[0m\n"
      ]
     },
     "metadata": {},
     "output_type": "display_data"
    },
    {
     "data": {
      "text/html": [
       "<pre style=\"white-space:pre;overflow-x:auto;line-height:normal;font-family:Menlo,'DejaVu Sans Mono',consolas,'Courier New',monospace\"><span style=\"font-weight: bold\">(</span><span style=\"color: #008080; text-decoration-color: #008080; font-weight: bold\">778</span>, <span style=\"color: #008080; text-decoration-color: #008080; font-weight: bold\">2</span><span style=\"font-weight: bold\">)</span>\n",
       "</pre>\n"
      ],
      "text/plain": [
       "\u001b[1m(\u001b[0m\u001b[1;36m778\u001b[0m, \u001b[1;36m2\u001b[0m\u001b[1m)\u001b[0m\n"
      ]
     },
     "metadata": {},
     "output_type": "display_data"
    },
    {
     "data": {
      "text/plain": [
       "605284"
      ]
     },
     "execution_count": 20,
     "metadata": {},
     "output_type": "execute_result"
    }
   ],
   "source": [
    "y, x = np.where(image > 0)\n",
    "y, x = x.astype(np.float32), y.astype(np.float32)\n",
    "\n",
    "points = np.stack([x, y], axis=1)\n",
    "\n",
    "print(points[:5])\n",
    "print(points.shape)"
   ]
  },
  {
   "cell_type": "markdown",
   "metadata": {},
   "source": [
    "## Sample Points"
   ]
  },
  {
   "cell_type": "code",
   "execution_count": 56,
   "metadata": {},
   "outputs": [],
   "source": [
    "def random_n_points_pair(points, n):\n",
    "    idx = np.random.choice(points.shape[0], n, replace=False)\n",
    "    return np.array(list(itertools.combinations(points[idx], 2)))[:n]"
   ]
  },
  {
   "cell_type": "code",
   "execution_count": 58,
   "metadata": {},
   "outputs": [
    {
     "data": {
      "text/html": [
       "<pre style=\"white-space:pre;overflow-x:auto;line-height:normal;font-family:Menlo,'DejaVu Sans Mono',consolas,'Courier New',monospace\"><span style=\"font-weight: bold\">[[[</span><span style=\"color: #008080; text-decoration-color: #008080; font-weight: bold\">252</span>.  <span style=\"color: #008080; text-decoration-color: #008080; font-weight: bold\">82</span>.<span style=\"font-weight: bold\">]</span>\n",
       "  <span style=\"font-weight: bold\">[</span><span style=\"color: #008080; text-decoration-color: #008080; font-weight: bold\">210</span>. <span style=\"color: #008080; text-decoration-color: #008080; font-weight: bold\">223</span>.<span style=\"font-weight: bold\">]]</span>\n",
       "\n",
       " <span style=\"font-weight: bold\">[[</span><span style=\"color: #008080; text-decoration-color: #008080; font-weight: bold\">252</span>.  <span style=\"color: #008080; text-decoration-color: #008080; font-weight: bold\">82</span>.<span style=\"font-weight: bold\">]</span>\n",
       "  <span style=\"font-weight: bold\">[</span> <span style=\"color: #008080; text-decoration-color: #008080; font-weight: bold\">80</span>. <span style=\"color: #008080; text-decoration-color: #008080; font-weight: bold\">231</span>.<span style=\"font-weight: bold\">]]</span>\n",
       "\n",
       " <span style=\"font-weight: bold\">[[</span><span style=\"color: #008080; text-decoration-color: #008080; font-weight: bold\">252</span>.  <span style=\"color: #008080; text-decoration-color: #008080; font-weight: bold\">82</span>.<span style=\"font-weight: bold\">]</span>\n",
       "  <span style=\"font-weight: bold\">[</span><span style=\"color: #008080; text-decoration-color: #008080; font-weight: bold\">169</span>. <span style=\"color: #008080; text-decoration-color: #008080; font-weight: bold\">441</span>.<span style=\"font-weight: bold\">]]</span>\n",
       "\n",
       " <span style=\"font-weight: bold\">[[</span><span style=\"color: #008080; text-decoration-color: #008080; font-weight: bold\">252</span>.  <span style=\"color: #008080; text-decoration-color: #008080; font-weight: bold\">82</span>.<span style=\"font-weight: bold\">]</span>\n",
       "  <span style=\"font-weight: bold\">[</span> <span style=\"color: #008080; text-decoration-color: #008080; font-weight: bold\">76</span>. <span style=\"color: #008080; text-decoration-color: #008080; font-weight: bold\">245</span>.<span style=\"font-weight: bold\">]]</span>\n",
       "\n",
       " <span style=\"font-weight: bold\">[[</span><span style=\"color: #008080; text-decoration-color: #008080; font-weight: bold\">252</span>.  <span style=\"color: #008080; text-decoration-color: #008080; font-weight: bold\">82</span>.<span style=\"font-weight: bold\">]</span>\n",
       "  <span style=\"font-weight: bold\">[</span> <span style=\"color: #008080; text-decoration-color: #008080; font-weight: bold\">79</span>. <span style=\"color: #008080; text-decoration-color: #008080; font-weight: bold\">289</span>.<span style=\"font-weight: bold\">]]</span>\n",
       "\n",
       " <span style=\"font-weight: bold\">[[</span><span style=\"color: #008080; text-decoration-color: #008080; font-weight: bold\">252</span>.  <span style=\"color: #008080; text-decoration-color: #008080; font-weight: bold\">82</span>.<span style=\"font-weight: bold\">]</span>\n",
       "  <span style=\"font-weight: bold\">[</span><span style=\"color: #008080; text-decoration-color: #008080; font-weight: bold\">143</span>. <span style=\"color: #008080; text-decoration-color: #008080; font-weight: bold\">243</span>.<span style=\"font-weight: bold\">]]</span>\n",
       "\n",
       " <span style=\"font-weight: bold\">[[</span><span style=\"color: #008080; text-decoration-color: #008080; font-weight: bold\">252</span>.  <span style=\"color: #008080; text-decoration-color: #008080; font-weight: bold\">82</span>.<span style=\"font-weight: bold\">]</span>\n",
       "  <span style=\"font-weight: bold\">[</span><span style=\"color: #008080; text-decoration-color: #008080; font-weight: bold\">192</span>.  <span style=\"color: #008080; text-decoration-color: #008080; font-weight: bold\">31</span>.<span style=\"font-weight: bold\">]]</span>\n",
       "\n",
       " <span style=\"font-weight: bold\">[[</span><span style=\"color: #008080; text-decoration-color: #008080; font-weight: bold\">252</span>.  <span style=\"color: #008080; text-decoration-color: #008080; font-weight: bold\">82</span>.<span style=\"font-weight: bold\">]</span>\n",
       "  <span style=\"font-weight: bold\">[</span><span style=\"color: #008080; text-decoration-color: #008080; font-weight: bold\">111</span>. <span style=\"color: #008080; text-decoration-color: #008080; font-weight: bold\">320</span>.<span style=\"font-weight: bold\">]]</span>\n",
       "\n",
       " <span style=\"font-weight: bold\">[[</span><span style=\"color: #008080; text-decoration-color: #008080; font-weight: bold\">252</span>.  <span style=\"color: #008080; text-decoration-color: #008080; font-weight: bold\">82</span>.<span style=\"font-weight: bold\">]</span>\n",
       "  <span style=\"font-weight: bold\">[</span> <span style=\"color: #008080; text-decoration-color: #008080; font-weight: bold\">61</span>. <span style=\"color: #008080; text-decoration-color: #008080; font-weight: bold\">323</span>.<span style=\"font-weight: bold\">]]</span>\n",
       "\n",
       " <span style=\"font-weight: bold\">[[</span><span style=\"color: #008080; text-decoration-color: #008080; font-weight: bold\">210</span>. <span style=\"color: #008080; text-decoration-color: #008080; font-weight: bold\">223</span>.<span style=\"font-weight: bold\">]</span>\n",
       "  <span style=\"font-weight: bold\">[</span> <span style=\"color: #008080; text-decoration-color: #008080; font-weight: bold\">80</span>. <span style=\"color: #008080; text-decoration-color: #008080; font-weight: bold\">231</span>.<span style=\"font-weight: bold\">]]]</span>\n",
       "</pre>\n"
      ],
      "text/plain": [
       "\u001b[1m[\u001b[0m\u001b[1m[\u001b[0m\u001b[1m[\u001b[0m\u001b[1;36m252\u001b[0m.  \u001b[1;36m82\u001b[0m.\u001b[1m]\u001b[0m\n",
       "  \u001b[1m[\u001b[0m\u001b[1;36m210\u001b[0m. \u001b[1;36m223\u001b[0m.\u001b[1m]\u001b[0m\u001b[1m]\u001b[0m\n",
       "\n",
       " \u001b[1m[\u001b[0m\u001b[1m[\u001b[0m\u001b[1;36m252\u001b[0m.  \u001b[1;36m82\u001b[0m.\u001b[1m]\u001b[0m\n",
       "  \u001b[1m[\u001b[0m \u001b[1;36m80\u001b[0m. \u001b[1;36m231\u001b[0m.\u001b[1m]\u001b[0m\u001b[1m]\u001b[0m\n",
       "\n",
       " \u001b[1m[\u001b[0m\u001b[1m[\u001b[0m\u001b[1;36m252\u001b[0m.  \u001b[1;36m82\u001b[0m.\u001b[1m]\u001b[0m\n",
       "  \u001b[1m[\u001b[0m\u001b[1;36m169\u001b[0m. \u001b[1;36m441\u001b[0m.\u001b[1m]\u001b[0m\u001b[1m]\u001b[0m\n",
       "\n",
       " \u001b[1m[\u001b[0m\u001b[1m[\u001b[0m\u001b[1;36m252\u001b[0m.  \u001b[1;36m82\u001b[0m.\u001b[1m]\u001b[0m\n",
       "  \u001b[1m[\u001b[0m \u001b[1;36m76\u001b[0m. \u001b[1;36m245\u001b[0m.\u001b[1m]\u001b[0m\u001b[1m]\u001b[0m\n",
       "\n",
       " \u001b[1m[\u001b[0m\u001b[1m[\u001b[0m\u001b[1;36m252\u001b[0m.  \u001b[1;36m82\u001b[0m.\u001b[1m]\u001b[0m\n",
       "  \u001b[1m[\u001b[0m \u001b[1;36m79\u001b[0m. \u001b[1;36m289\u001b[0m.\u001b[1m]\u001b[0m\u001b[1m]\u001b[0m\n",
       "\n",
       " \u001b[1m[\u001b[0m\u001b[1m[\u001b[0m\u001b[1;36m252\u001b[0m.  \u001b[1;36m82\u001b[0m.\u001b[1m]\u001b[0m\n",
       "  \u001b[1m[\u001b[0m\u001b[1;36m143\u001b[0m. \u001b[1;36m243\u001b[0m.\u001b[1m]\u001b[0m\u001b[1m]\u001b[0m\n",
       "\n",
       " \u001b[1m[\u001b[0m\u001b[1m[\u001b[0m\u001b[1;36m252\u001b[0m.  \u001b[1;36m82\u001b[0m.\u001b[1m]\u001b[0m\n",
       "  \u001b[1m[\u001b[0m\u001b[1;36m192\u001b[0m.  \u001b[1;36m31\u001b[0m.\u001b[1m]\u001b[0m\u001b[1m]\u001b[0m\n",
       "\n",
       " \u001b[1m[\u001b[0m\u001b[1m[\u001b[0m\u001b[1;36m252\u001b[0m.  \u001b[1;36m82\u001b[0m.\u001b[1m]\u001b[0m\n",
       "  \u001b[1m[\u001b[0m\u001b[1;36m111\u001b[0m. \u001b[1;36m320\u001b[0m.\u001b[1m]\u001b[0m\u001b[1m]\u001b[0m\n",
       "\n",
       " \u001b[1m[\u001b[0m\u001b[1m[\u001b[0m\u001b[1;36m252\u001b[0m.  \u001b[1;36m82\u001b[0m.\u001b[1m]\u001b[0m\n",
       "  \u001b[1m[\u001b[0m \u001b[1;36m61\u001b[0m. \u001b[1;36m323\u001b[0m.\u001b[1m]\u001b[0m\u001b[1m]\u001b[0m\n",
       "\n",
       " \u001b[1m[\u001b[0m\u001b[1m[\u001b[0m\u001b[1;36m210\u001b[0m. \u001b[1;36m223\u001b[0m.\u001b[1m]\u001b[0m\n",
       "  \u001b[1m[\u001b[0m \u001b[1;36m80\u001b[0m. \u001b[1;36m231\u001b[0m.\u001b[1m]\u001b[0m\u001b[1m]\u001b[0m\u001b[1m]\u001b[0m\n"
      ]
     },
     "metadata": {},
     "output_type": "display_data"
    }
   ],
   "source": [
    "sampled_points = random_n_points_pair(points, 10)\n",
    "print(sampled_points)"
   ]
  },
  {
   "cell_type": "markdown",
   "metadata": {},
   "source": [
    "# Compute Line"
   ]
  },
  {
   "cell_type": "code",
   "execution_count": 82,
   "metadata": {},
   "outputs": [],
   "source": [
    "def fit_line1(p1, p2):\n",
    "    x1, y1 = p1\n",
    "    x2, y2 = p2\n",
    "\n",
    "    # Calculating the coefficients\n",
    "    a = y2 - y1\n",
    "    b = x1 - x2\n",
    "    c = x2 * y1 - x1 * y2\n",
    "\n",
    "    # Normalize the coefficients so that a^2 + b^2 = 1\n",
    "    norm = (a**2 + b**2)**0.5\n",
    "    a, b, c = a / norm, b / norm, c / norm\n",
    "\n",
    "    return a, b, c"
   ]
  },
  {
   "cell_type": "code",
   "execution_count": 83,
   "metadata": {},
   "outputs": [
    {
     "data": {
      "text/html": [
       "<pre style=\"white-space:pre;overflow-x:auto;line-height:normal;font-family:Menlo,'DejaVu Sans Mono',consolas,'Courier New',monospace\">The line coefficients are: a = <span style=\"color: #008080; text-decoration-color: #008080; font-weight: bold\">0.7071067811865475</span>, b = <span style=\"color: #008080; text-decoration-color: #008080; font-weight: bold\">-0.7071067811865475</span>, c = <span style=\"color: #008080; text-decoration-color: #008080; font-weight: bold\">0.7071067811865475</span>\n",
       "</pre>\n"
      ],
      "text/plain": [
       "The line coefficients are: a = \u001b[1;36m0.7071067811865475\u001b[0m, b = \u001b[1;36m-0.7071067811865475\u001b[0m, c = \u001b[1;36m0.7071067811865475\u001b[0m\n"
      ]
     },
     "metadata": {},
     "output_type": "display_data"
    }
   ],
   "source": [
    "p1 = np.array([1, 2])\n",
    "p2 = np.array([3, 4])\n",
    "a, b, c = fit_line1(p1, p2)\n",
    "print(f\"The line coefficients are: a = {a}, b = {b}, c = {c}\")"
   ]
  },
  {
   "cell_type": "code",
   "execution_count": 88,
   "metadata": {},
   "outputs": [],
   "source": [
    "def fit_line(p1, p2):\n",
    "    m = np.vstack([p1, p2])\n",
    "    m = np.hstack([m, np.ones((2, 1))])\n",
    "    eigen_values, eigen_vectors = np.linalg.eig(m.T @ m)\n",
    "    index = np.argmin(eigen_values)\n",
    "    a, b, c = eigen_vectors[:, index]\n",
    "    norm = (a**2 + b**2)**0.5\n",
    "    a, b, c = a / norm, b / norm, c / norm\n",
    "    return a, b, c"
   ]
  },
  {
   "cell_type": "code",
   "execution_count": 89,
   "metadata": {},
   "outputs": [
    {
     "data": {
      "text/html": [
       "<pre style=\"white-space:pre;overflow-x:auto;line-height:normal;font-family:Menlo,'DejaVu Sans Mono',consolas,'Courier New',monospace\">The line coefficients are: a = <span style=\"color: #008080; text-decoration-color: #008080; font-weight: bold\">0.7071067811865475</span>, b = <span style=\"color: #008080; text-decoration-color: #008080; font-weight: bold\">-0.7071067811865477</span>, c = <span style=\"color: #008080; text-decoration-color: #008080; font-weight: bold\">0.7071067811865483</span>\n",
       "</pre>\n"
      ],
      "text/plain": [
       "The line coefficients are: a = \u001b[1;36m0.7071067811865475\u001b[0m, b = \u001b[1;36m-0.7071067811865477\u001b[0m, c = \u001b[1;36m0.7071067811865483\u001b[0m\n"
      ]
     },
     "metadata": {},
     "output_type": "display_data"
    }
   ],
   "source": [
    "p1 = np.array([1, 2])\n",
    "p2 = np.array([3, 4])\n",
    "a, b, c = fit_line(p1, p2)\n",
    "print(f\"The line coefficients are: a = {a}, b = {b}, c = {c}\")"
   ]
  },
  {
   "cell_type": "markdown",
   "metadata": {},
   "source": [
    "# Distance From A Line"
   ]
  },
  {
   "cell_type": "code",
   "execution_count": 91,
   "metadata": {},
   "outputs": [],
   "source": [
    "def distance_to_line(p, a, b, c):\n",
    "    x, y = p\n",
    "    return abs(a * x + b * y + c)"
   ]
  },
  {
   "cell_type": "code",
   "execution_count": 98,
   "metadata": {},
   "outputs": [
    {
     "data": {
      "text/plain": [
       "0"
      ]
     },
     "execution_count": 98,
     "metadata": {},
     "output_type": "execute_result"
    }
   ],
   "source": [
    "distance_to_line(np.array([3, 4]), 1, -1, 1)"
   ]
  },
  {
   "cell_type": "code",
   "execution_count": null,
   "metadata": {},
   "outputs": [],
   "source": []
  }
 ],
 "metadata": {
  "kernelspec": {
   "display_name": ".venv",
   "language": "python",
   "name": "python3"
  },
  "language_info": {
   "codemirror_mode": {
    "name": "ipython",
    "version": 3
   },
   "file_extension": ".py",
   "mimetype": "text/x-python",
   "name": "python",
   "nbconvert_exporter": "python",
   "pygments_lexer": "ipython3",
   "version": "3.10.12"
  }
 },
 "nbformat": 4,
 "nbformat_minor": 2
}
