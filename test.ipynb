{
 "cells": [
  {
   "cell_type": "code",
   "execution_count": 1,
   "metadata": {},
   "outputs": [
    {
     "name": "stdout",
     "output_type": "stream",
     "text": [
      "[0 0]\n",
      "[0 1]\n",
      "[1 0]\n",
      "[1 1]\n"
     ]
    }
   ],
   "source": [
    "import numpy as np\n",
    "\n",
    "# Your initial array\n",
    "a = np.array([[1, 2], [3, 4]])\n",
    "\n",
    "# Step 1: Flatten the array\n",
    "flattened = a.flatten()\n",
    "\n",
    "# Step 2: Get the sorted indices of the flattened array\n",
    "sorted_indices_1d = np.argsort(flattened)\n",
    "\n",
    "# Step 3: Convert these 1D indices back into 2D indices\n",
    "rows, cols = np.unravel_index(sorted_indices_1d, a.shape)\n",
    "\n",
    "# Combine rows and cols to get the final result\n",
    "sorted_indices_2d = np.column_stack((rows, cols))\n",
    "\n",
    "# Display the result\n",
    "for index_pair in sorted_indices_2d:\n",
    "    print(index_pair)\n"
   ]
  },
  {
   "cell_type": "code",
   "execution_count": null,
   "metadata": {},
   "outputs": [],
   "source": []
  }
 ],
 "metadata": {
  "kernelspec": {
   "display_name": ".venv",
   "language": "python",
   "name": "python3"
  },
  "language_info": {
   "codemirror_mode": {
    "name": "ipython",
    "version": 3
   },
   "file_extension": ".py",
   "mimetype": "text/x-python",
   "name": "python",
   "nbconvert_exporter": "python",
   "pygments_lexer": "ipython3",
   "version": "3.10.12"
  }
 },
 "nbformat": 4,
 "nbformat_minor": 2
}
