{
 "cells": [
  {
   "cell_type": "code",
   "execution_count": 66,
   "id": "a29a011c",
   "metadata": {},
   "outputs": [],
   "source": [
    "import numpy as np\n",
    "from PIL import Image\n",
    "import itertools\n",
    "from typing import Union, Tuple, List\n",
    "import cv2\n",
    "import matplotlib.pyplot as plt"
   ]
  },
  {
   "cell_type": "code",
   "execution_count": 67,
   "id": "0fad19ef",
   "metadata": {},
   "outputs": [],
   "source": [
    "# helper function\n",
    "def load_image(path: str) -> np.ndarray:\n",
    "    img = Image.open(path)\n",
    "    img_gray = img.convert(\"L\")\n",
    "    return np.array(img_gray).astype(np.float64)\n",
    "\n",
    "\n",
    "def save_image(path: str, image: np.ndarray):\n",
    "    img = Image.fromarray(image)\n",
    "    img.convert(\"L\").save(path)"
   ]
  },
  {
   "cell_type": "code",
   "execution_count": 68,
   "id": "04f757a8",
   "metadata": {},
   "outputs": [],
   "source": [
    "def convolve2d(image: np.ndarray, kernel: np.ndarray) -> np.ndarray:\n",
    "    i_h = image.shape[0]\n",
    "    i_w = image.shape[1]\n",
    "    k_h = kernel.shape[0]\n",
    "    k_w = kernel.shape[1]\n",
    "\n",
    "    # the kernel must have odd dimensions for simplicity\n",
    "    if k_h % 2 == 0 or k_w % 2 == 0:\n",
    "        raise ValueError(\"Kernel must have odd dimensions\")\n",
    "    if k_h > i_h or k_w > i_w:\n",
    "        raise ValueError(\"Kernel cannot be larger than image\")\n",
    "\n",
    "    half_k_h = k_h // 2\n",
    "    half_k_w = k_w // 2\n",
    "    image = np.pad(image, (half_k_h, half_k_w), mode=\"edge\")\n",
    "\n",
    "    # convolution operation\n",
    "    output = image.copy()\n",
    "    for x, y in itertools.product(\n",
    "        range(half_k_h, image.shape[0] - half_k_h),\n",
    "        range(half_k_w, image.shape[1] - half_k_w),\n",
    "    ):\n",
    "        if ((x + half_k_h) > image.shape[0]) or ((y + half_k_w) > image.shape[1]):\n",
    "            continue\n",
    "        output[x, y] = (\n",
    "            kernel\n",
    "            * image[\n",
    "                (x - half_k_h) : (x + half_k_h + 1), (y - half_k_w) : (y + half_k_w + 1)\n",
    "            ]\n",
    "        ).sum()\n",
    "\n",
    "    return output[half_k_h:-half_k_h, half_k_w:-half_k_w]"
   ]
  },
  {
   "cell_type": "code",
   "execution_count": 69,
   "id": "c148f907",
   "metadata": {},
   "outputs": [],
   "source": [
    "# gaussian filter\n",
    "def gaussian_func(x: int, y: int, sigma: float, size: int) -> float:\n",
    "    return (1 / (2 * np.pi * sigma**2) * np.exp(-((x - size // 2) ** 2 + (y - size // 2) ** 2) / (2 * sigma**2)))\n",
    "\n",
    "def gaussian_filter(image: np.ndarray, sigma: float, size: Union[int, None] = None) -> Tuple[np.ndarray, int]:\n",
    "    # set size\n",
    "    if size is None:\n",
    "        size = int(np.floor(6 * sigma + 1))\n",
    "    # get gaussian kernel\n",
    "    kernel = np.zeros((size, size))\n",
    "    for i, j in itertools.product(range(size), range(size)):\n",
    "        kernel[i, j] = gaussian_func(x=i, y=j, sigma=sigma, size=size)\n",
    "    kernel = kernel / kernel.sum()\n",
    "    # convolve\n",
    "    return convolve2d(image, kernel), size"
   ]
  },
  {
   "cell_type": "code",
   "execution_count": 70,
   "id": "7a6ad3ab",
   "metadata": {},
   "outputs": [],
   "source": [
    "# sobel operator\n",
    "def sobel_operator(image: np.ndarray) -> Tuple[np.ndarray, np.ndarray]:\n",
    "    # sobel operator\n",
    "    sobel_x = np.array([[-1, 0, 1], [-2, 0, 2], [-1, 0, 1]])\n",
    "    sobel_y = np.array([[-1, -2, -1], [0, 0, 0], [1, 2, 1]])\n",
    "    # convolve\n",
    "    return convolve2d(image, sobel_x), convolve2d(image, sobel_y)"
   ]
  },
  {
   "cell_type": "code",
   "execution_count": 71,
   "id": "4168e1a6",
   "metadata": {},
   "outputs": [],
   "source": [
    "# harris corner detector\n",
    "def harris_corners(path: str, alpha: float = 0.15, top_points: int = 1000, apply_non_max_suppression=False) -> np.ndarray:\n",
    "    img = load_image(path)\n",
    "    # sobel operation\n",
    "    Ix , Iy = sobel_operator(img)\n",
    "    # calculations for second momentum matrix (M)\n",
    "    Ixx = Ix * Ix\n",
    "    Iyy = Iy * Iy\n",
    "    Ixy = Ix * Iy\n",
    "    # gaussian filtering\n",
    "    Ixx , _ = gaussian_filter(Ixx, sigma = 1)\n",
    "    Iyy , _ = gaussian_filter(Iyy, sigma = 1)\n",
    "    Ixy , _ = gaussian_filter(Ixy, sigma = 1)\n",
    "    # calculating cornerness (R)\n",
    "    det_M = (Ixx * Iyy) - (Ixy**2)\n",
    "    trace_M = Ixx + Iyy\n",
    "    R = det_M - alpha * (trace_M**2)\n",
    "    \n",
    "    corners = np.argpartition(R.flatten(), -top_points)[-top_points:]\n",
    "    corners = np.column_stack(np.unravel_index(corners, R.shape))\n",
    "    \n",
    "    if apply_non_max_suppression:\n",
    "        # applying non-maximum suppression\n",
    "        corners = non_max_suppression(corners, R)\n",
    "\n",
    "\n",
    "    return corners"
   ]
  },
  {
   "cell_type": "code",
   "execution_count": 72,
   "id": "cf14a457",
   "metadata": {},
   "outputs": [],
   "source": [
    "def non_max_suppression(corners, R):\n",
    "    sorted_corners = corners[np.argsort(R[corners[:, 0], corners[:, 1]])[::-1]]\n",
    "\n",
    "    result = []\n",
    "    while len(sorted_corners) > 0:\n",
    "        current_corner = sorted_corners[0]\n",
    "        result.append(current_corner)\n",
    "\n",
    "        distances = np.sqrt(np.sum((sorted_corners - current_corner)**2, axis=1))\n",
    "        mask = distances > 5 \n",
    "        sorted_corners = sorted_corners[mask]\n",
    "\n",
    "    return np.array(result)"
   ]
  },
  {
   "cell_type": "code",
   "execution_count": 73,
   "id": "a23f7a0d",
   "metadata": {},
   "outputs": [],
   "source": [
    "img_left = load_image(\"uttower_left.jpg\")\n",
    "img_right = load_image(\"uttower_right.jpg\")\n",
    "\n",
    "harris1 = harris_corners(\"uttower_left.jpg\")\n",
    "harris2 = harris_corners(\"uttower_right.jpg\")"
   ]
  },
  {
   "cell_type": "code",
   "execution_count": 74,
   "id": "21e15903",
   "metadata": {},
   "outputs": [],
   "source": [
    "harris_left = np.zeros_like(img_left, dtype=np.uint8)\n",
    "harris_left[harris1[:, 0], harris1[:, 1]] = 255\n",
    "\n",
    "harris_right = np.zeros_like(img_right, dtype=np.uint8)\n",
    "harris_right[harris2[:, 0], harris2[:, 1]] = 255"
   ]
  },
  {
   "cell_type": "code",
   "execution_count": 75,
   "id": "9c8a4ade",
   "metadata": {},
   "outputs": [],
   "source": [
    "save_image(\"left_harris.jpg\",harris_left)\n",
    "save_image(\"right_harris.jpg\",harris_right)"
   ]
  },
  {
   "cell_type": "code",
   "execution_count": 76,
   "id": "a9bd2bca",
   "metadata": {},
   "outputs": [],
   "source": [
    "harris3 = harris_corners(\"uttower_left.jpg\", apply_non_max_suppression=True)\n",
    "harris4 = harris_corners(\"uttower_right.jpg\", apply_non_max_suppression=True)"
   ]
  },
  {
   "cell_type": "code",
   "execution_count": 77,
   "id": "bb367fc3",
   "metadata": {},
   "outputs": [],
   "source": [
    "harris_left_nms = np.zeros_like(img_left, dtype=np.uint8)\n",
    "harris_left_nms[harris3[:, 0], harris3[:, 1]] = 255\n",
    "\n",
    "harris_right_nms = np.zeros_like(img_right, dtype=np.uint8)\n",
    "harris_right_nms[harris4[:, 0], harris4[:, 1]] = 255"
   ]
  },
  {
   "cell_type": "code",
   "execution_count": 78,
   "id": "9a97824c",
   "metadata": {},
   "outputs": [],
   "source": [
    "save_image(\"left_harris_nms.jpg\",harris_left_nms)\n",
    "save_image(\"right_harris_nms.jpg\",harris_right_nms)"
   ]
  }
 ],
 "metadata": {
  "kernelspec": {
   "display_name": "Python 3 (ipykernel)",
   "language": "python",
   "name": "python3"
  },
  "language_info": {
   "codemirror_mode": {
    "name": "ipython",
    "version": 3
   },
   "file_extension": ".py",
   "mimetype": "text/x-python",
   "name": "python",
   "nbconvert_exporter": "python",
   "pygments_lexer": "ipython3",
   "version": "3.9.7"
  }
 },
 "nbformat": 4,
 "nbformat_minor": 5
}
