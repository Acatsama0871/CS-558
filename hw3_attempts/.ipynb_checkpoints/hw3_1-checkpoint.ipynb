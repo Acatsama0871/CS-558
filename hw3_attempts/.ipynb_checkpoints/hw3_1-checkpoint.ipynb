{
 "cells": [
  {
   "cell_type": "code",
   "execution_count": 18,
   "id": "a29a011c",
   "metadata": {},
   "outputs": [],
   "source": [
    "import numpy as np\n",
    "from PIL import Image\n",
    "import itertools\n",
    "from typing import Union, Tuple, List"
   ]
  },
  {
   "cell_type": "code",
   "execution_count": 19,
   "id": "0fad19ef",
   "metadata": {},
   "outputs": [],
   "source": [
    "# helper function\n",
    "def load_image(path: str) -> np.ndarray:\n",
    "    img = Image.open(path)\n",
    "    img_gray = img.convert(\"L\")\n",
    "    return np.array(img_gray).astype(np.float64)\n",
    "\n",
    "\n",
    "def save_image(path: str, image: np.ndarray):\n",
    "    img = Image.fromarray(image)\n",
    "    img.convert(\"L\").save(path)"
   ]
  },
  {
   "cell_type": "code",
   "execution_count": 20,
   "id": "04f757a8",
   "metadata": {},
   "outputs": [],
   "source": [
    "def convolve2d(image: np.ndarray, kernel: np.ndarray) -> np.ndarray:\n",
    "    i_h = image.shape[0]\n",
    "    i_w = image.shape[1]\n",
    "    k_h = kernel.shape[0]\n",
    "    k_w = kernel.shape[1]\n",
    "\n",
    "    # the kernel must have odd dimensions for simplicity\n",
    "    if k_h % 2 == 0 or k_w % 2 == 0:\n",
    "        raise ValueError(\"Kernel must have odd dimensions\")\n",
    "    if k_h > i_h or k_w > i_w:\n",
    "        raise ValueError(\"Kernel cannot be larger than image\")\n",
    "\n",
    "    half_k_h = k_h // 2\n",
    "    half_k_w = k_w // 2\n",
    "    image = np.pad(image, (half_k_h, half_k_w), mode=\"edge\")\n",
    "\n",
    "    # convolution operation\n",
    "    output = image.copy()\n",
    "    for x, y in itertools.product(\n",
    "        range(half_k_h, image.shape[0] - half_k_h),\n",
    "        range(half_k_w, image.shape[1] - half_k_w),\n",
    "    ):\n",
    "        if ((x + half_k_h) > image.shape[0]) or ((y + half_k_w) > image.shape[1]):\n",
    "            continue\n",
    "        output[x, y] = (\n",
    "            kernel\n",
    "            * image[\n",
    "                (x - half_k_h) : (x + half_k_h + 1), (y - half_k_w) : (y + half_k_w + 1)\n",
    "            ]\n",
    "        ).sum()\n",
    "\n",
    "    return output[half_k_h:-half_k_h, half_k_w:-half_k_w]"
   ]
  },
  {
   "cell_type": "code",
   "execution_count": 21,
   "id": "c148f907",
   "metadata": {},
   "outputs": [],
   "source": [
    "# gaussian filter\n",
    "def gaussian_func(x: int, y: int, sigma: float, size: int) -> float:\n",
    "    return (1 / (2 * np.pi * sigma**2) * np.exp(-((x - size // 2) ** 2 + (y - size // 2) ** 2) / (2 * sigma**2)))\n",
    "\n",
    "def gaussian_filter(image: np.ndarray, sigma: float, size: Union[int, None] = None) -> Tuple[np.ndarray, int]:\n",
    "    # set size\n",
    "    if size is None:\n",
    "        size = int(np.floor(6 * sigma + 1))\n",
    "    # get gaussian kernel\n",
    "    kernel = np.zeros((size, size))\n",
    "    for i, j in itertools.product(range(size), range(size)):\n",
    "        kernel[i, j] = gaussian_func(x=i, y=j, sigma=sigma, size=size)\n",
    "    kernel = kernel / kernel.sum()\n",
    "    # convolve\n",
    "    return convolve2d(image, kernel), size"
   ]
  },
  {
   "cell_type": "code",
   "execution_count": 22,
   "id": "7a6ad3ab",
   "metadata": {},
   "outputs": [],
   "source": [
    "# sobel operator\n",
    "def sobel_operator(image: np.ndarray) -> Tuple[np.ndarray, np.ndarray]:\n",
    "    # sobel operator\n",
    "    sobel_x = np.array([[-1, 0, 1], [-2, 0, 2], [-1, 0, 1]])\n",
    "    sobel_y = np.array([[-1, -2, -1], [0, 0, 0], [1, 2, 1]])\n",
    "    # convolve\n",
    "    return convolve2d(image, sobel_x), convolve2d(image, sobel_y)"
   ]
  },
  {
   "cell_type": "code",
   "execution_count": 31,
   "id": "4168e1a6",
   "metadata": {},
   "outputs": [],
   "source": [
    "# harris corner detector\n",
    "def harris_corners(path: str, alpha: float = 0.04, top_points: int = 1000) -> np.ndarray:\n",
    "    img = load_image(path)\n",
    "    # apply gaussian filter\n",
    "    img , _ = gaussian_filter(img, sigma = 3)\n",
    "    # sobel operation\n",
    "    Ix , Iy = sobel_operator(img)\n",
    "    # Calculating second momentum matrix (M)\n",
    "    M = np.zeros((img.shape[0], img.shape[1], 2, 2))\n",
    "    for i in range(img.shape[0]):\n",
    "        for j in range(img.shape[1]):\n",
    "            window_Ix = Ix[i:i+3, j:j+3]\n",
    "            window_Iy = Iy[i:i+3, j:j+3]\n",
    "            M[i, j] = np.array([[np.sum(window_Ix**2), np.sum(window_Ix * window_Iy)],[np.sum(window_Ix * window_Iy), np.sum(window_Iy**2)]])\n",
    "    # Calculating Corner Response (R)\n",
    "    det_M = np.linalg.det(M)\n",
    "    trace_M = np.matrix.trace(M)\n",
    "    R = det_M - alpha * (trace_M ** 2)\n",
    "    return R"
   ]
  },
  {
   "cell_type": "code",
   "execution_count": 32,
   "id": "a23f7a0d",
   "metadata": {},
   "outputs": [
    {
     "ename": "ValueError",
     "evalue": "operands could not be broadcast together with shapes (683,1024) (2,2) ",
     "output_type": "error",
     "traceback": [
      "\u001b[1;31m---------------------------------------------------------------------------\u001b[0m",
      "\u001b[1;31mValueError\u001b[0m                                Traceback (most recent call last)",
      "\u001b[1;32m~\\AppData\\Local\\Temp/ipykernel_6708/2987484425.py\u001b[0m in \u001b[0;36m<module>\u001b[1;34m\u001b[0m\n\u001b[1;32m----> 1\u001b[1;33m \u001b[0mharris1\u001b[0m \u001b[1;33m=\u001b[0m \u001b[0mharris_corners\u001b[0m\u001b[1;33m(\u001b[0m\u001b[1;34m\"uttower_left.jpg\"\u001b[0m\u001b[1;33m)\u001b[0m\u001b[1;33m\u001b[0m\u001b[1;33m\u001b[0m\u001b[0m\n\u001b[0m\u001b[0;32m      2\u001b[0m \u001b[0mharris1\u001b[0m\u001b[1;33m\u001b[0m\u001b[1;33m\u001b[0m\u001b[0m\n",
      "\u001b[1;32m~\\AppData\\Local\\Temp/ipykernel_6708/1079157637.py\u001b[0m in \u001b[0;36mharris_corners\u001b[1;34m(path, alpha, top_points)\u001b[0m\n\u001b[0;32m     16\u001b[0m     \u001b[0mdet_M\u001b[0m \u001b[1;33m=\u001b[0m \u001b[0mnp\u001b[0m\u001b[1;33m.\u001b[0m\u001b[0mlinalg\u001b[0m\u001b[1;33m.\u001b[0m\u001b[0mdet\u001b[0m\u001b[1;33m(\u001b[0m\u001b[0mM\u001b[0m\u001b[1;33m)\u001b[0m\u001b[1;33m\u001b[0m\u001b[1;33m\u001b[0m\u001b[0m\n\u001b[0;32m     17\u001b[0m     \u001b[0mtrace_M\u001b[0m \u001b[1;33m=\u001b[0m \u001b[0mnp\u001b[0m\u001b[1;33m.\u001b[0m\u001b[0mmatrix\u001b[0m\u001b[1;33m.\u001b[0m\u001b[0mtrace\u001b[0m\u001b[1;33m(\u001b[0m\u001b[0mM\u001b[0m\u001b[1;33m)\u001b[0m\u001b[1;33m\u001b[0m\u001b[1;33m\u001b[0m\u001b[0m\n\u001b[1;32m---> 18\u001b[1;33m     \u001b[0mR\u001b[0m \u001b[1;33m=\u001b[0m \u001b[0mdet_M\u001b[0m \u001b[1;33m-\u001b[0m \u001b[0malpha\u001b[0m \u001b[1;33m*\u001b[0m \u001b[1;33m(\u001b[0m\u001b[0mtrace_M\u001b[0m \u001b[1;33m**\u001b[0m \u001b[1;36m2\u001b[0m\u001b[1;33m)\u001b[0m\u001b[1;33m\u001b[0m\u001b[1;33m\u001b[0m\u001b[0m\n\u001b[0m\u001b[0;32m     19\u001b[0m     \u001b[1;32mreturn\u001b[0m \u001b[0mR\u001b[0m\u001b[1;33m\u001b[0m\u001b[1;33m\u001b[0m\u001b[0m\n",
      "\u001b[1;31mValueError\u001b[0m: operands could not be broadcast together with shapes (683,1024) (2,2) "
     ]
    }
   ],
   "source": [
    "harris1 = harris_corners(\"uttower_left.jpg\")\n",
    "harris1"
   ]
  },
  {
   "cell_type": "code",
   "execution_count": null,
   "id": "9c8a4ade",
   "metadata": {},
   "outputs": [],
   "source": []
  }
 ],
 "metadata": {
  "kernelspec": {
   "display_name": "Python 3 (ipykernel)",
   "language": "python",
   "name": "python3"
  },
  "language_info": {
   "codemirror_mode": {
    "name": "ipython",
    "version": 3
   },
   "file_extension": ".py",
   "mimetype": "text/x-python",
   "name": "python",
   "nbconvert_exporter": "python",
   "pygments_lexer": "ipython3",
   "version": "3.9.7"
  }
 },
 "nbformat": 4,
 "nbformat_minor": 5
}
